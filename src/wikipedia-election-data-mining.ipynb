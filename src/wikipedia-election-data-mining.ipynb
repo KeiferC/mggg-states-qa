{
 "cells": [
  {
   "cell_type": "markdown",
   "metadata": {},
   "source": [
    "Mining Wikipedia Election Data\n",
    "=========================\n",
    "\n",
    "This notebook mines the data in the Wikipedia pages for the following elections:\n",
    "\n",
    "- 2016 United States presidential election\n",
    "- 2016 United States Senate elections\n",
    "- 2016 United States House of Representatives elections\n",
    "- 2017 United States Senate elections (special elections)\n",
    "- 2018 United States Senate elections\n",
    "- 2018 United States House of Representatives elections\n",
    "\n",
    "Timestamp: 12:00 PM ET, 11 Aug. 2020"
   ]
  },
  {
   "cell_type": "code",
   "execution_count": 1,
   "metadata": {},
   "outputs": [],
   "source": [
    "# !pip3 install pandas\n",
    "# !pip3 install wikipedia\n",
    "\n",
    "# !pip3 install git+https://github.com/KeiferC/gdutils.git"
   ]
  },
  {
   "cell_type": "code",
   "execution_count": 26,
   "metadata": {},
   "outputs": [],
   "source": [
    "import pandas as pd\n",
    "import numpy as np\n",
    "import wikipedia\n",
    "import os\n",
    "import re\n",
    "\n",
    "import gdutils.datamine as dm\n",
    "import gdutils.dataqa as dq\n",
    "import gdutils.extract as et\n",
    "\n",
    "from typing import Any, List, Tuple, Dict, Hashable, Union, NoReturn"
   ]
  },
  {
   "cell_type": "code",
   "execution_count": 3,
   "metadata": {},
   "outputs": [],
   "source": [
    "state_names = [\n",
    "    'Alabama', 'Alaska','Arizona', 'Arkansas', 'California', \n",
    "    'Colorado', 'Connecticut', 'Delaware',  'Florida', 'Georgia', \n",
    "    'Hawaii', 'Idaho', 'Illinois', 'Indiana', 'Iowa', \n",
    "    'Kansas', 'Kentucky', 'Louisiana', 'Maine', 'Maryland', \n",
    "    'Massachusetts', 'Michigan', 'Minnesota', 'Mississippi', 'Missouri', \n",
    "    'Montana', 'Nebraska', 'Nevada', 'New Hampshire', 'New Jersey', \n",
    "    'New Mexico', 'New York', 'North Carolina', 'North Dakota', 'Ohio', \n",
    "    'Oklahoma', 'Oregon', 'Pennsylvania', 'Rhode Island', 'South Carolina', \n",
    "    'South Dakota', 'Tennessee', 'Texas', 'Utah', 'Vermont', \n",
    "    'Virginia', 'Washington', 'West Virginia', 'Wisconsin', 'Wyoming']\n",
    "\n",
    "state_abbreviations = [\n",
    "    'AL', 'AK', 'AZ', 'AR', 'CA', \n",
    "    'CO', 'CT', 'DE', 'FL', 'GA', \n",
    "    'HI', 'ID', 'IL', 'IN', 'IA', \n",
    "    'KS', 'KY', 'LA', 'ME', 'MD', \n",
    "    'MA', 'MI', 'MN', 'MS', 'MO', \n",
    "    'MT', 'NE', 'NV', 'NH', 'NJ', \n",
    "    'NM', 'NY', 'NC', 'ND', 'OH', \n",
    "    'OK', 'OR', 'PA', 'RI', 'SC', \n",
    "    'SD', 'TN', 'TX', 'UT', 'VT', \n",
    "    'VA', 'WA', 'WV', 'WI', 'WY']\n",
    "\n",
    "states = list(zip(state_names, state_abbreviations))"
   ]
  },
  {
   "cell_type": "markdown",
   "metadata": {},
   "source": [
    "Step 1. Generate Wikipedia page titles for scraping\n",
    "------------------------------------------------------------"
   ]
  },
  {
   "cell_type": "code",
   "execution_count": 4,
   "metadata": {},
   "outputs": [],
   "source": [
    "pres_election = ('PRES', 'United States presidential election')\n",
    "\n",
    "fed_elections = [('SEN',  'United States Senate election'),\n",
    "                 ('USH',  'United States House of Representatives election')]\n",
    "\n",
    "election_years_to_check = [2016, 2017, 2018]"
   ]
  },
  {
   "cell_type": "code",
   "execution_count": 5,
   "metadata": {},
   "outputs": [],
   "source": [
    "wiki_titles = []\n",
    "\n",
    "for yr in election_years_to_check:\n",
    "    generate_key = lambda yr, ekey, st_abv: ekey + str(yr % 100) + '_' + st_abv\n",
    "    generate_title = lambda yr, etype, st: str(yr) + ' ' + etype + ' in ' + st\n",
    "    \n",
    "    if yr % 4 == 0:\n",
    "        [wiki_titles.append((generate_key(yr, pres_election[0], st_abv),\n",
    "                             generate_title(yr, pres_election[1], st)))\n",
    "         for st, st_abv in states]\n",
    "        \n",
    "    [wiki_titles.append((generate_key(yr, ekey, st_abv),\n",
    "                         generate_title(yr, etype, st)))\n",
    "     for ekey, etype in fed_elections\n",
    "     for st, st_abv in states]"
   ]
  },
  {
   "cell_type": "markdown",
   "metadata": {},
   "source": [
    "Step 2. Gather Wikipedia URLs from page titles\n",
    "------------------------------------------------------------"
   ]
  },
  {
   "cell_type": "code",
   "execution_count": 6,
   "metadata": {},
   "outputs": [],
   "source": [
    "wiki_urls = {}\n",
    "\n",
    "for wiki_title in wiki_titles:\n",
    "    key, title = wiki_title\n",
    "    \n",
    "    try:\n",
    "        url = wikipedia.page(title=title).url\n",
    "\n",
    "        if set(title.split(' ')).issubset(\n",
    "                set(re.findall('[a-zA-Z0-9]+', url))):\n",
    "            wiki_urls[key] = (title, url)\n",
    "            \n",
    "    except Exception:\n",
    "        continue # it's okay if page does not exist"
   ]
  },
  {
   "cell_type": "code",
   "execution_count": 7,
   "metadata": {},
   "outputs": [
    {
     "name": "stdout",
     "output_type": "stream",
     "text": [
      "PRES16_AL : 2016 United States presidential election in Alabama\n",
      "\thttps://en.wikipedia.org/wiki/2016_United_States_presidential_election_in_Alabama\n",
      "PRES16_AK : 2016 United States presidential election in Alaska\n",
      "\thttps://en.wikipedia.org/wiki/2016_United_States_presidential_election_in_Alaska\n",
      "PRES16_AZ : 2016 United States presidential election in Arizona\n",
      "\thttps://en.wikipedia.org/wiki/2016_United_States_presidential_election_in_Arizona\n",
      "PRES16_AR : 2016 United States presidential election in Arkansas\n",
      "\thttps://en.wikipedia.org/wiki/2016_United_States_presidential_election_in_Arkansas\n",
      "PRES16_CA : 2016 United States presidential election in California\n",
      "\thttps://en.wikipedia.org/wiki/2016_United_States_presidential_election_in_California\n",
      "PRES16_CO : 2016 United States presidential election in Colorado\n",
      "\thttps://en.wikipedia.org/wiki/2016_United_States_presidential_election_in_Colorado\n",
      "PRES16_CT : 2016 United States presidential election in Connecticut\n",
      "\thttps://en.wikipedia.org/wiki/2016_United_States_presidential_election_in_Connecticut\n",
      "PRES16_DE : 2016 United States presidential election in Delaware\n",
      "\thttps://en.wikipedia.org/wiki/2016_United_States_presidential_election_in_Delaware\n",
      "PRES16_FL : 2016 United States presidential election in Florida\n",
      "\thttps://en.wikipedia.org/wiki/2016_United_States_presidential_election_in_Florida\n",
      "PRES16_GA : 2016 United States presidential election in Georgia\n",
      "\thttps://en.wikipedia.org/wiki/2016_United_States_presidential_election_in_Georgia\n",
      "PRES16_HI : 2016 United States presidential election in Hawaii\n",
      "\thttps://en.wikipedia.org/wiki/2016_United_States_presidential_election_in_Hawaii\n",
      "PRES16_ID : 2016 United States presidential election in Idaho\n",
      "\thttps://en.wikipedia.org/wiki/2016_United_States_presidential_election_in_Idaho\n",
      "PRES16_IL : 2016 United States presidential election in Illinois\n",
      "\thttps://en.wikipedia.org/wiki/2016_United_States_presidential_election_in_Illinois\n",
      "PRES16_IN : 2016 United States presidential election in Indiana\n",
      "\thttps://en.wikipedia.org/wiki/2016_United_States_presidential_election_in_Indiana\n",
      "PRES16_IA : 2016 United States presidential election in Iowa\n",
      "\thttps://en.wikipedia.org/wiki/2016_United_States_presidential_election_in_Iowa\n",
      "PRES16_KS : 2016 United States presidential election in Kansas\n",
      "\thttps://en.wikipedia.org/wiki/2016_United_States_presidential_election_in_Kansas\n",
      "PRES16_KY : 2016 United States presidential election in Kentucky\n",
      "\thttps://en.wikipedia.org/wiki/2016_United_States_presidential_election_in_Kentucky\n",
      "PRES16_LA : 2016 United States presidential election in Louisiana\n",
      "\thttps://en.wikipedia.org/wiki/2016_United_States_presidential_election_in_Louisiana\n",
      "PRES16_ME : 2016 United States presidential election in Maine\n",
      "\thttps://en.wikipedia.org/wiki/2016_United_States_presidential_election_in_Maine\n",
      "PRES16_MD : 2016 United States presidential election in Maryland\n",
      "\thttps://en.wikipedia.org/wiki/2016_United_States_presidential_election_in_Maryland\n",
      "PRES16_MA : 2016 United States presidential election in Massachusetts\n",
      "\thttps://en.wikipedia.org/wiki/2016_United_States_presidential_election_in_Massachusetts\n",
      "PRES16_MI : 2016 United States presidential election in Michigan\n",
      "\thttps://en.wikipedia.org/wiki/2016_United_States_presidential_election_in_Michigan\n",
      "PRES16_MN : 2016 United States presidential election in Minnesota\n",
      "\thttps://en.wikipedia.org/wiki/2016_United_States_presidential_election_in_Minnesota\n",
      "PRES16_MS : 2016 United States presidential election in Mississippi\n",
      "\thttps://en.wikipedia.org/wiki/2016_United_States_presidential_election_in_Mississippi\n",
      "PRES16_MO : 2016 United States presidential election in Missouri\n",
      "\thttps://en.wikipedia.org/wiki/2016_United_States_presidential_election_in_Missouri\n",
      "PRES16_MT : 2016 United States presidential election in Montana\n",
      "\thttps://en.wikipedia.org/wiki/2016_United_States_presidential_election_in_Montana\n",
      "PRES16_NE : 2016 United States presidential election in Nebraska\n",
      "\thttps://en.wikipedia.org/wiki/2016_United_States_presidential_election_in_Nebraska\n",
      "PRES16_NV : 2016 United States presidential election in Nevada\n",
      "\thttps://en.wikipedia.org/wiki/2016_United_States_presidential_election_in_Nevada\n",
      "PRES16_NH : 2016 United States presidential election in New Hampshire\n",
      "\thttps://en.wikipedia.org/wiki/2016_United_States_presidential_election_in_New_Hampshire\n",
      "PRES16_NJ : 2016 United States presidential election in New Jersey\n",
      "\thttps://en.wikipedia.org/wiki/2016_United_States_presidential_election_in_New_Jersey\n",
      "PRES16_NM : 2016 United States presidential election in New Mexico\n",
      "\thttps://en.wikipedia.org/wiki/2016_United_States_presidential_election_in_New_Mexico\n",
      "PRES16_NY : 2016 United States presidential election in New York\n",
      "\thttps://en.wikipedia.org/wiki/2016_United_States_presidential_election_in_New_York\n",
      "PRES16_NC : 2016 United States presidential election in North Carolina\n",
      "\thttps://en.wikipedia.org/wiki/2016_United_States_presidential_election_in_North_Carolina\n",
      "PRES16_ND : 2016 United States presidential election in North Dakota\n",
      "\thttps://en.wikipedia.org/wiki/2016_United_States_presidential_election_in_North_Dakota\n",
      "PRES16_OH : 2016 United States presidential election in Ohio\n",
      "\thttps://en.wikipedia.org/wiki/2016_United_States_presidential_election_in_Ohio\n",
      "PRES16_OK : 2016 United States presidential election in Oklahoma\n",
      "\thttps://en.wikipedia.org/wiki/2016_United_States_presidential_election_in_Oklahoma\n",
      "PRES16_OR : 2016 United States presidential election in Oregon\n",
      "\thttps://en.wikipedia.org/wiki/2016_United_States_presidential_election_in_Oregon\n",
      "PRES16_PA : 2016 United States presidential election in Pennsylvania\n",
      "\thttps://en.wikipedia.org/wiki/2016_United_States_presidential_election_in_Pennsylvania\n",
      "PRES16_RI : 2016 United States presidential election in Rhode Island\n",
      "\thttps://en.wikipedia.org/wiki/2016_United_States_presidential_election_in_Rhode_Island\n",
      "PRES16_SC : 2016 United States presidential election in South Carolina\n",
      "\thttps://en.wikipedia.org/wiki/2016_United_States_presidential_election_in_South_Carolina\n",
      "PRES16_SD : 2016 United States presidential election in South Dakota\n",
      "\thttps://en.wikipedia.org/wiki/2016_United_States_presidential_election_in_South_Dakota\n",
      "PRES16_TN : 2016 United States presidential election in Tennessee\n",
      "\thttps://en.wikipedia.org/wiki/2016_United_States_presidential_election_in_Tennessee\n",
      "PRES16_TX : 2016 United States presidential election in Texas\n",
      "\thttps://en.wikipedia.org/wiki/2016_United_States_presidential_election_in_Texas\n",
      "PRES16_UT : 2016 United States presidential election in Utah\n",
      "\thttps://en.wikipedia.org/wiki/2016_United_States_presidential_election_in_Utah\n",
      "PRES16_VT : 2016 United States presidential election in Vermont\n",
      "\thttps://en.wikipedia.org/wiki/2016_United_States_presidential_election_in_Vermont\n",
      "PRES16_VA : 2016 United States presidential election in Virginia\n",
      "\thttps://en.wikipedia.org/wiki/2016_United_States_presidential_election_in_Virginia\n",
      "PRES16_WA : 2016 United States presidential election in Washington\n",
      "\thttps://en.wikipedia.org/wiki/2016_United_States_presidential_election_in_Washington_(state)\n",
      "PRES16_WV : 2016 United States presidential election in West Virginia\n",
      "\thttps://en.wikipedia.org/wiki/2016_United_States_presidential_election_in_West_Virginia\n",
      "PRES16_WI : 2016 United States presidential election in Wisconsin\n",
      "\thttps://en.wikipedia.org/wiki/2016_United_States_presidential_election_in_Wisconsin\n",
      "PRES16_WY : 2016 United States presidential election in Wyoming\n",
      "\thttps://en.wikipedia.org/wiki/2016_United_States_presidential_election_in_Wyoming\n",
      "SEN16_AL  : 2016 United States Senate election in Alabama\n",
      "\thttps://en.wikipedia.org/wiki/2016_United_States_Senate_election_in_Alabama\n",
      "SEN16_AK  : 2016 United States Senate election in Alaska\n",
      "\thttps://en.wikipedia.org/wiki/2016_United_States_Senate_election_in_Alaska\n",
      "SEN16_AZ  : 2016 United States Senate election in Arizona\n",
      "\thttps://en.wikipedia.org/wiki/2016_United_States_Senate_election_in_Arizona\n",
      "SEN16_AR  : 2016 United States Senate election in Arkansas\n",
      "\thttps://en.wikipedia.org/wiki/2016_United_States_Senate_election_in_Arkansas\n",
      "SEN16_CA  : 2016 United States Senate election in California\n",
      "\thttps://en.wikipedia.org/wiki/2016_United_States_Senate_election_in_California\n",
      "SEN16_CO  : 2016 United States Senate election in Colorado\n",
      "\thttps://en.wikipedia.org/wiki/2016_United_States_Senate_election_in_Colorado\n",
      "SEN16_CT  : 2016 United States Senate election in Connecticut\n",
      "\thttps://en.wikipedia.org/wiki/2016_United_States_Senate_election_in_Connecticut\n",
      "SEN16_FL  : 2016 United States Senate election in Florida\n",
      "\thttps://en.wikipedia.org/wiki/2016_United_States_Senate_election_in_Florida\n",
      "SEN16_GA  : 2016 United States Senate election in Georgia\n",
      "\thttps://en.wikipedia.org/wiki/2016_United_States_Senate_election_in_Georgia\n",
      "SEN16_HI  : 2016 United States Senate election in Hawaii\n",
      "\thttps://en.wikipedia.org/wiki/2016_United_States_Senate_election_in_Hawaii\n",
      "SEN16_ID  : 2016 United States Senate election in Idaho\n",
      "\thttps://en.wikipedia.org/wiki/2016_United_States_Senate_election_in_Idaho\n",
      "SEN16_IL  : 2016 United States Senate election in Illinois\n",
      "\thttps://en.wikipedia.org/wiki/2016_United_States_Senate_election_in_Illinois\n",
      "SEN16_IN  : 2016 United States Senate election in Indiana\n",
      "\thttps://en.wikipedia.org/wiki/2016_United_States_Senate_election_in_Indiana\n",
      "SEN16_IA  : 2016 United States Senate election in Iowa\n",
      "\thttps://en.wikipedia.org/wiki/2016_United_States_Senate_election_in_Iowa\n",
      "SEN16_KS  : 2016 United States Senate election in Kansas\n",
      "\thttps://en.wikipedia.org/wiki/2016_United_States_Senate_election_in_Kansas\n",
      "SEN16_KY  : 2016 United States Senate election in Kentucky\n",
      "\thttps://en.wikipedia.org/wiki/2016_United_States_Senate_election_in_Kentucky\n",
      "SEN16_LA  : 2016 United States Senate election in Louisiana\n",
      "\thttps://en.wikipedia.org/wiki/2016_United_States_Senate_election_in_Louisiana\n",
      "SEN16_MD  : 2016 United States Senate election in Maryland\n",
      "\thttps://en.wikipedia.org/wiki/2016_United_States_Senate_election_in_Maryland\n",
      "SEN16_MO  : 2016 United States Senate election in Missouri\n",
      "\thttps://en.wikipedia.org/wiki/2016_United_States_Senate_election_in_Missouri\n",
      "SEN16_NV  : 2016 United States Senate election in Nevada\n",
      "\thttps://en.wikipedia.org/wiki/2016_United_States_Senate_election_in_Nevada\n",
      "SEN16_NH  : 2016 United States Senate election in New Hampshire\n",
      "\thttps://en.wikipedia.org/wiki/2016_United_States_Senate_election_in_New_Hampshire\n",
      "SEN16_NY  : 2016 United States Senate election in New York\n",
      "\thttps://en.wikipedia.org/wiki/2016_United_States_Senate_election_in_New_York\n",
      "SEN16_NC  : 2016 United States Senate election in North Carolina\n",
      "\thttps://en.wikipedia.org/wiki/2016_United_States_Senate_election_in_North_Carolina\n",
      "SEN16_ND  : 2016 United States Senate election in North Dakota\n",
      "\thttps://en.wikipedia.org/wiki/2016_United_States_Senate_election_in_North_Dakota\n",
      "SEN16_OH  : 2016 United States Senate election in Ohio\n",
      "\thttps://en.wikipedia.org/wiki/2016_United_States_Senate_election_in_Ohio\n",
      "SEN16_OK  : 2016 United States Senate election in Oklahoma\n",
      "\thttps://en.wikipedia.org/wiki/2016_United_States_Senate_election_in_Oklahoma\n",
      "SEN16_OR  : 2016 United States Senate election in Oregon\n",
      "\thttps://en.wikipedia.org/wiki/2016_United_States_Senate_election_in_Oregon\n",
      "SEN16_PA  : 2016 United States Senate election in Pennsylvania\n",
      "\thttps://en.wikipedia.org/wiki/2016_United_States_Senate_election_in_Pennsylvania\n",
      "SEN16_SC  : 2016 United States Senate election in South Carolina\n",
      "\thttps://en.wikipedia.org/wiki/2016_United_States_Senate_election_in_South_Carolina\n",
      "SEN16_SD  : 2016 United States Senate election in South Dakota\n",
      "\thttps://en.wikipedia.org/wiki/2016_United_States_Senate_election_in_South_Dakota\n",
      "SEN16_UT  : 2016 United States Senate election in Utah\n",
      "\thttps://en.wikipedia.org/wiki/2016_United_States_Senate_election_in_Utah\n",
      "SEN16_VT  : 2016 United States Senate election in Vermont\n",
      "\thttps://en.wikipedia.org/wiki/2016_United_States_Senate_election_in_Vermont\n",
      "SEN16_WA  : 2016 United States Senate election in Washington\n",
      "\thttps://en.wikipedia.org/wiki/2016_United_States_Senate_election_in_Washington\n",
      "SEN16_WI  : 2016 United States Senate election in Wisconsin\n",
      "\thttps://en.wikipedia.org/wiki/2016_United_States_Senate_election_in_Wisconsin\n",
      "USH16_AK  : 2016 United States House of Representatives election in Alaska\n",
      "\thttps://en.wikipedia.org/wiki/2016_United_States_House_of_Representatives_election_in_Alaska\n",
      "USH16_DE  : 2016 United States House of Representatives election in Delaware\n",
      "\thttps://en.wikipedia.org/wiki/2016_United_States_House_of_Representatives_election_in_Delaware\n",
      "USH16_MT  : 2016 United States House of Representatives election in Montana\n",
      "\thttps://en.wikipedia.org/wiki/2016_United_States_House_of_Representatives_election_in_Montana\n",
      "USH16_ND  : 2016 United States House of Representatives election in North Dakota\n",
      "\thttps://en.wikipedia.org/wiki/2016_United_States_House_of_Representatives_election_in_North_Dakota\n",
      "USH16_SD  : 2016 United States House of Representatives election in South Dakota\n",
      "\thttps://en.wikipedia.org/wiki/2016_United_States_House_of_Representatives_election_in_South_Dakota\n",
      "USH16_VT  : 2016 United States House of Representatives election in Vermont\n",
      "\thttps://en.wikipedia.org/wiki/2016_United_States_House_of_Representatives_election_in_Vermont\n",
      "USH16_WY  : 2016 United States House of Representatives election in Wyoming\n",
      "\thttps://en.wikipedia.org/wiki/2016_United_States_House_of_Representatives_election_in_Wyoming\n",
      "SEN17_AL  : 2017 United States Senate election in Alabama\n",
      "\thttps://en.wikipedia.org/wiki/2017_United_States_Senate_special_election_in_Alabama\n",
      "SEN18_AZ  : 2018 United States Senate election in Arizona\n",
      "\thttps://en.wikipedia.org/wiki/2018_United_States_Senate_election_in_Arizona\n",
      "SEN18_CA  : 2018 United States Senate election in California\n",
      "\thttps://en.wikipedia.org/wiki/2018_United_States_Senate_election_in_California\n",
      "SEN18_CT  : 2018 United States Senate election in Connecticut\n",
      "\thttps://en.wikipedia.org/wiki/2018_United_States_Senate_election_in_Connecticut\n",
      "SEN18_DE  : 2018 United States Senate election in Delaware\n",
      "\thttps://en.wikipedia.org/wiki/2018_United_States_Senate_election_in_Delaware\n",
      "SEN18_FL  : 2018 United States Senate election in Florida\n",
      "\thttps://en.wikipedia.org/wiki/2018_United_States_Senate_election_in_Florida\n",
      "SEN18_HI  : 2018 United States Senate election in Hawaii\n",
      "\thttps://en.wikipedia.org/wiki/2018_United_States_Senate_election_in_Hawaii\n",
      "SEN18_IN  : 2018 United States Senate election in Indiana\n",
      "\thttps://en.wikipedia.org/wiki/2018_United_States_Senate_election_in_Indiana\n",
      "SEN18_ME  : 2018 United States Senate election in Maine\n",
      "\thttps://en.wikipedia.org/wiki/2018_United_States_Senate_election_in_Maine\n",
      "SEN18_MD  : 2018 United States Senate election in Maryland\n",
      "\thttps://en.wikipedia.org/wiki/2018_United_States_Senate_election_in_Maryland\n",
      "SEN18_MA  : 2018 United States Senate election in Massachusetts\n",
      "\thttps://en.wikipedia.org/wiki/2018_United_States_Senate_election_in_Massachusetts\n",
      "SEN18_MI  : 2018 United States Senate election in Michigan\n",
      "\thttps://en.wikipedia.org/wiki/2018_United_States_Senate_election_in_Michigan\n",
      "SEN18_MN  : 2018 United States Senate election in Minnesota\n",
      "\thttps://en.wikipedia.org/wiki/2018_United_States_Senate_election_in_Minnesota\n",
      "SEN18_MS  : 2018 United States Senate election in Mississippi\n",
      "\thttps://en.wikipedia.org/wiki/2018_United_States_Senate_election_in_Mississippi\n",
      "SEN18_MO  : 2018 United States Senate election in Missouri\n",
      "\thttps://en.wikipedia.org/wiki/2018_United_States_Senate_election_in_Missouri\n",
      "SEN18_MT  : 2018 United States Senate election in Montana\n",
      "\thttps://en.wikipedia.org/wiki/2018_United_States_Senate_election_in_Montana\n",
      "SEN18_NE  : 2018 United States Senate election in Nebraska\n",
      "\thttps://en.wikipedia.org/wiki/2018_United_States_Senate_election_in_Nebraska\n",
      "SEN18_NV  : 2018 United States Senate election in Nevada\n",
      "\thttps://en.wikipedia.org/wiki/2018_United_States_Senate_election_in_Nevada\n",
      "SEN18_NJ  : 2018 United States Senate election in New Jersey\n",
      "\thttps://en.wikipedia.org/wiki/2018_United_States_Senate_election_in_New_Jersey\n",
      "SEN18_NM  : 2018 United States Senate election in New Mexico\n",
      "\thttps://en.wikipedia.org/wiki/2018_United_States_Senate_election_in_New_Mexico\n",
      "SEN18_NY  : 2018 United States Senate election in New York\n",
      "\thttps://en.wikipedia.org/wiki/2018_United_States_Senate_election_in_New_York\n",
      "SEN18_ND  : 2018 United States Senate election in North Dakota\n",
      "\thttps://en.wikipedia.org/wiki/2018_United_States_Senate_election_in_North_Dakota\n",
      "SEN18_OH  : 2018 United States Senate election in Ohio\n",
      "\thttps://en.wikipedia.org/wiki/2018_United_States_Senate_election_in_Ohio\n",
      "SEN18_PA  : 2018 United States Senate election in Pennsylvania\n",
      "\thttps://en.wikipedia.org/wiki/2018_United_States_Senate_election_in_Pennsylvania\n",
      "SEN18_RI  : 2018 United States Senate election in Rhode Island\n",
      "\thttps://en.wikipedia.org/wiki/2018_United_States_Senate_election_in_Rhode_Island\n",
      "SEN18_TN  : 2018 United States Senate election in Tennessee\n",
      "\thttps://en.wikipedia.org/wiki/2018_United_States_Senate_election_in_Tennessee\n",
      "SEN18_TX  : 2018 United States Senate election in Texas\n",
      "\thttps://en.wikipedia.org/wiki/2018_United_States_Senate_election_in_Texas\n",
      "SEN18_UT  : 2018 United States Senate election in Utah\n",
      "\thttps://en.wikipedia.org/wiki/2018_United_States_Senate_election_in_Utah\n",
      "SEN18_VT  : 2018 United States Senate election in Vermont\n",
      "\thttps://en.wikipedia.org/wiki/2018_United_States_Senate_election_in_Vermont\n",
      "SEN18_VA  : 2018 United States Senate election in Virginia\n",
      "\thttps://en.wikipedia.org/wiki/2018_United_States_Senate_election_in_Virginia\n",
      "SEN18_WA  : 2018 United States Senate election in Washington\n",
      "\thttps://en.wikipedia.org/wiki/2018_United_States_Senate_election_in_Washington\n",
      "SEN18_WV  : 2018 United States Senate election in West Virginia\n",
      "\thttps://en.wikipedia.org/wiki/2018_United_States_Senate_election_in_West_Virginia\n",
      "SEN18_WI  : 2018 United States Senate election in Wisconsin\n",
      "\thttps://en.wikipedia.org/wiki/2018_United_States_Senate_election_in_Wisconsin\n",
      "SEN18_WY  : 2018 United States Senate election in Wyoming\n",
      "\thttps://en.wikipedia.org/wiki/2018_United_States_Senate_election_in_Wyoming\n",
      "USH18_AK  : 2018 United States House of Representatives election in Alaska\n",
      "\thttps://en.wikipedia.org/wiki/2018_United_States_House_of_Representatives_election_in_Alaska\n",
      "USH18_DE  : 2018 United States House of Representatives election in Delaware\n",
      "\thttps://en.wikipedia.org/wiki/2018_United_States_House_of_Representatives_election_in_Delaware\n",
      "USH18_MT  : 2018 United States House of Representatives election in Montana\n",
      "\thttps://en.wikipedia.org/wiki/2018_United_States_House_of_Representatives_election_in_Montana\n",
      "USH18_ND  : 2018 United States House of Representatives election in North Dakota\n",
      "\thttps://en.wikipedia.org/wiki/2018_United_States_House_of_Representatives_election_in_North_Dakota\n",
      "USH18_SD  : 2018 United States House of Representatives election in South Dakota\n",
      "\thttps://en.wikipedia.org/wiki/2018_United_States_House_of_Representatives_election_in_South_Dakota\n",
      "USH18_VT  : 2018 United States House of Representatives election in Vermont\n",
      "\thttps://en.wikipedia.org/wiki/2018_United_States_House_of_Representatives_election_in_Vermont\n",
      "USH18_WY  : 2018 United States House of Representatives election in Wyoming\n",
      "\thttps://en.wikipedia.org/wiki/2018_United_States_House_of_Representatives_election_in_Wyoming\n"
     ]
    }
   ],
   "source": [
    "# Print retrieved page URLs\n",
    "# Necessary for manually verifying URL-to-election mapping since\n",
    "# Wikipedia API tries to find best match, not the exact match\n",
    "\n",
    "for wiki_key in wiki_urls:\n",
    "    title, url = wiki_urls[wiki_key]\n",
    "    print('{:9} : {}\\n\\t{}'.format(wiki_key, title, url))"
   ]
  },
  {
   "cell_type": "markdown",
   "metadata": {},
   "source": [
    "Step 3. Gather tabular data from Wikipedia pages\n",
    "------------------------------------------------------------"
   ]
  },
  {
   "cell_type": "code",
   "execution_count": 8,
   "metadata": {},
   "outputs": [],
   "source": [
    "wiki_tables = {}\n",
    "\n",
    "for wiki_key in wiki_urls:\n",
    "    try:\n",
    "        wiki_tables[wiki_key] = pd.read_html(wiki_urls[wiki_key][1])\n",
    "    except Exception as e:\n",
    "        print(\"Unable to gather Wikipedia tabular data:\", e)"
   ]
  },
  {
   "cell_type": "code",
   "execution_count": 9,
   "metadata": {},
   "outputs": [],
   "source": [
    "# Display wikipedia tabular election data\n",
    "# Necessary for finding applicable table because a page can \n",
    "# contain multiple nameless tables whose orders differ from\n",
    "# other pages\n",
    "\n",
    "def print_wiki_tables(key):\n",
    "    for wiki in wiki_tables:\n",
    "        if wiki.startswith(key):\n",
    "            print('================================================')\n",
    "            print('Wiki: {} '.format(wiki))\n",
    "            print('================================================')\n",
    "\n",
    "            for i in range(len(wiki_tables[wiki])):\n",
    "                print('TABLE {}: ############################\\n{}\\n\\n\\n'.format(\n",
    "                        i, wiki_tables[wiki][i].head()))"
   ]
  },
  {
   "cell_type": "code",
   "execution_count": 10,
   "metadata": {},
   "outputs": [],
   "source": [
    "# commented out to save screen space\n",
    "# print_wiki_tables('PRES16')"
   ]
  },
  {
   "cell_type": "code",
   "execution_count": 11,
   "metadata": {},
   "outputs": [],
   "source": [
    "# commented out to save screen space\n",
    "# print_wiki_tables('SEN16')"
   ]
  },
  {
   "cell_type": "code",
   "execution_count": 12,
   "metadata": {},
   "outputs": [],
   "source": [
    "# commented out to save screen space\n",
    "# print_wiki_tables('USH16')"
   ]
  },
  {
   "cell_type": "code",
   "execution_count": 13,
   "metadata": {},
   "outputs": [],
   "source": [
    "# commented out to save screen space\n",
    "# print_wiki_tables('SEN17')"
   ]
  },
  {
   "cell_type": "code",
   "execution_count": 14,
   "metadata": {},
   "outputs": [],
   "source": [
    "# commented out to save screen space\n",
    "# print_wiki_tables('USH17') # no data exists"
   ]
  },
  {
   "cell_type": "code",
   "execution_count": 15,
   "metadata": {},
   "outputs": [],
   "source": [
    "# commented out to save screen space\n",
    "# print_wiki_tables('SEN18')"
   ]
  },
  {
   "cell_type": "code",
   "execution_count": 16,
   "metadata": {},
   "outputs": [],
   "source": [
    "# commented out to save screen space\n",
    "# print_wiki_tables('USH18')"
   ]
  },
  {
   "cell_type": "markdown",
   "metadata": {},
   "source": [
    "Step 4. Collect applicable election data from tables\n",
    "------------------------------------------------------------"
   ]
  },
  {
   "cell_type": "code",
   "execution_count": 17,
   "metadata": {},
   "outputs": [],
   "source": [
    "# Has to be done manually because every Wikipedia page \n",
    "# is different and because Wikipedia doesn't have datasets\n",
    "# to download and thus all tables are scraped\n",
    "\n",
    "wiki_dfs = {}"
   ]
  },
  {
   "cell_type": "markdown",
   "metadata": {},
   "source": [
    "__2016 United States presidential election data (``PRES16``)__"
   ]
  },
  {
   "cell_type": "code",
   "execution_count": 18,
   "metadata": {},
   "outputs": [],
   "source": [
    "# Unless otherwise stated, all data below are at the county-level\n",
    "\n",
    "wiki_dfs['PRES16_AL'] = wiki_tables['PRES16_AL'][6]  \n",
    "wiki_dfs['PRES16_AK'] = wiki_tables['PRES16_AK'][17] # state-level\n",
    "wiki_dfs['PRES16_AZ'] = wiki_tables['PRES16_AZ'][20] \n",
    "wiki_dfs['PRES16_AR'] = wiki_tables['PRES16_AR'][8]  \n",
    "wiki_dfs['PRES16_CA'] = wiki_tables['PRES16_CA'][36] \n",
    "wiki_dfs['PRES16_CO'] = wiki_tables['PRES16_CO'][21] \n",
    "wiki_dfs['PRES16_CT'] = wiki_tables['PRES16_CT'][16] \n",
    "wiki_dfs['PRES16_DE'] = wiki_tables['PRES16_DE'][13] \n",
    "wiki_dfs['PRES16_FL'] = wiki_tables['PRES16_FL'][14] \n",
    "wiki_dfs['PRES16_GA'] = wiki_tables['PRES16_GA'][13] \n",
    "wiki_dfs['PRES16_HI'] = wiki_tables['PRES16_HI'][12] \n",
    "wiki_dfs['PRES16_ID'] = wiki_tables['PRES16_ID'][16] \n",
    "wiki_dfs['PRES16_IL'] = wiki_tables['PRES16_IL'][26] \n",
    "wiki_dfs['PRES16_IN'] = wiki_tables['PRES16_IN'][14] \n",
    "wiki_dfs['PRES16_IA'] = wiki_tables['PRES16_IA'][13] \n",
    "wiki_dfs['PRES16_KS'] = wiki_tables['PRES16_KS'][17] \n",
    "wiki_dfs['PRES16_KY'] = wiki_tables['PRES16_KY'][12] \n",
    "wiki_dfs['PRES16_LA'] = wiki_tables['PRES16_LA'][9]  # parish-level\n",
    "wiki_dfs['PRES16_ME'] = wiki_tables['PRES16_ME'][19] \n",
    "wiki_dfs['PRES16_MD'] = wiki_tables['PRES16_MD'][15] \n",
    "wiki_dfs['PRES16_MA'] = wiki_tables['PRES16_MA'][16] \n",
    "wiki_dfs['PRES16_MI'] = wiki_tables['PRES16_MI'][17] \n",
    "wiki_dfs['PRES16_MN'] = wiki_tables['PRES16_MN'][18] \n",
    "wiki_dfs['PRES16_MS'] = wiki_tables['PRES16_MS'][17] \n",
    "wiki_dfs['PRES16_MO'] = wiki_tables['PRES16_MO'][16] \n",
    "wiki_dfs['PRES16_MT'] = wiki_tables['PRES16_MT'][10] \n",
    "wiki_dfs['PRES16_NE'] = wiki_tables['PRES16_NE'][26] \n",
    "wiki_dfs['PRES16_NV'] = wiki_tables['PRES16_NV'][17] \n",
    "wiki_dfs['PRES16_NH'] = wiki_tables['PRES16_NH'][20] \n",
    "wiki_dfs['PRES16_NJ'] = wiki_tables['PRES16_NJ'][14] \n",
    "wiki_dfs['PRES16_NM'] = wiki_tables['PRES16_NM'][13] \n",
    "wiki_dfs['PRES16_NY'] = wiki_tables['PRES16_NY'][27] \n",
    "wiki_dfs['PRES16_NC'] = wiki_tables['PRES16_NC'][18] \n",
    "wiki_dfs['PRES16_ND'] = wiki_tables['PRES16_ND'][12] \n",
    "wiki_dfs['PRES16_OH'] = wiki_tables['PRES16_OH'][23] \n",
    "wiki_dfs['PRES16_OK'] = wiki_tables['PRES16_OK'][20] \n",
    "wiki_dfs['PRES16_OR'] = wiki_tables['PRES16_OR'][21] \n",
    "wiki_dfs['PRES16_PA'] = wiki_tables['PRES16_PA'][19] \n",
    "wiki_dfs['PRES16_RI'] = wiki_tables['PRES16_RI'][12] \n",
    "wiki_dfs['PRES16_SC'] = wiki_tables['PRES16_SC'][16] \n",
    "wiki_dfs['PRES16_SD'] = wiki_tables['PRES16_SD'][11] \n",
    "wiki_dfs['PRES16_TN'] = wiki_tables['PRES16_TN'][13] \n",
    "wiki_dfs['PRES16_TX'] = wiki_tables['PRES16_TX'][29] \n",
    "wiki_dfs['PRES16_UT'] = wiki_tables['PRES16_UT'][13] \n",
    "wiki_dfs['PRES16_VT'] = wiki_tables['PRES16_VT'][16] \n",
    "wiki_dfs['PRES16_VA'] = wiki_tables['PRES16_VA'][20] \n",
    "wiki_dfs['PRES16_WA'] = wiki_tables['PRES16_WA'][13] \n",
    "wiki_dfs['PRES16_WV'] = wiki_tables['PRES16_WV'][11] \n",
    "wiki_dfs['PRES16_WI'] = wiki_tables['PRES16_WI'][16] \n",
    "wiki_dfs['PRES16_WY'] = wiki_tables['PRES16_WY'][12] "
   ]
  },
  {
   "cell_type": "markdown",
   "metadata": {},
   "source": [
    "__2016 United States Senate election data (``SEN16``)__"
   ]
  },
  {
   "cell_type": "code",
   "execution_count": 19,
   "metadata": {},
   "outputs": [],
   "source": [
    "# All election data below are at the State-level\n",
    "\n",
    "wiki_dfs['SEN16_AL'] = wiki_tables['SEN16_AL'][19] \n",
    "wiki_dfs['SEN16_AK'] = wiki_tables['SEN16_AK'][20] \n",
    "wiki_dfs['SEN16_AZ'] = wiki_tables['SEN16_AZ'][45]\n",
    "wiki_dfs['SEN16_AR'] = wiki_tables['SEN16_AR'][16]\n",
    "wiki_dfs['SEN16_CA'] = wiki_tables['SEN16_CA'][53]\n",
    "wiki_dfs['SEN16_CO'] = wiki_tables['SEN16_CO'][25]\n",
    "wiki_dfs['SEN16_CT'] = wiki_tables['SEN16_CT'][20]\n",
    "wiki_dfs['SEN16_FL'] = wiki_tables['SEN16_FL'][64]\n",
    "wiki_dfs['SEN16_GA'] = wiki_tables['SEN16_GA'][16]\n",
    "wiki_dfs['SEN16_HI'] = wiki_tables['SEN16_HI'][18]\n",
    "wiki_dfs['SEN16_ID'] = wiki_tables['SEN16_ID'][15]\n",
    "wiki_dfs['SEN16_IL'] = wiki_tables['SEN16_IL'][29]\n",
    "wiki_dfs['SEN16_IN'] = wiki_tables['SEN16_IN'][25]\n",
    "wiki_dfs['SEN16_IA'] = wiki_tables['SEN16_IA'][20]\n",
    "wiki_dfs['SEN16_KS'] = wiki_tables['SEN16_KS'][17]\n",
    "wiki_dfs['SEN16_KY'] = wiki_tables['SEN16_KY'][22]\n",
    "wiki_dfs['SEN16_LA'] = wiki_tables['SEN16_LA'][24]\n",
    "wiki_dfs['SEN16_MD'] = wiki_tables['SEN16_MD'][29]\n",
    "wiki_dfs['SEN16_MO'] = wiki_tables['SEN16_MO'][24]\n",
    "wiki_dfs['SEN16_NV'] = wiki_tables['SEN16_NV'][32]\n",
    "wiki_dfs['SEN16_NH'] = wiki_tables['SEN16_NH'][23]\n",
    "wiki_dfs['SEN16_NY'] = wiki_tables['SEN16_NY'][15]\n",
    "wiki_dfs['SEN16_NC'] = wiki_tables['SEN16_NC'][42]\n",
    "wiki_dfs['SEN16_ND'] = wiki_tables['SEN16_ND'][14]\n",
    "wiki_dfs['SEN16_OH'] = wiki_tables['SEN16_OH'][29]\n",
    "wiki_dfs['SEN16_OK'] = wiki_tables['SEN16_OK'][12]\n",
    "wiki_dfs['SEN16_OR'] = wiki_tables['SEN16_OR'][14]\n",
    "wiki_dfs['SEN16_PA'] = wiki_tables['SEN16_PA'][38]\n",
    "wiki_dfs['SEN16_SC'] = wiki_tables['SEN16_SC'][16]\n",
    "wiki_dfs['SEN16_SD'] = wiki_tables['SEN16_SD'][9]\n",
    "wiki_dfs['SEN16_UT'] = wiki_tables['SEN16_UT'][19]\n",
    "wiki_dfs['SEN16_VT'] = wiki_tables['SEN16_VT'][12]\n",
    "wiki_dfs['SEN16_WA'] = wiki_tables['SEN16_WA'][15]\n",
    "wiki_dfs['SEN16_WI'] = wiki_tables['SEN16_WI'][21]"
   ]
  },
  {
   "cell_type": "markdown",
   "metadata": {},
   "source": [
    "__2016 United States House of Representative election data (``USH16``)__"
   ]
  },
  {
   "cell_type": "code",
   "execution_count": 20,
   "metadata": {},
   "outputs": [],
   "source": [
    "# All election data below are at the State-level\n",
    "\n",
    "wiki_dfs['USH16_AK'] = wiki_tables['USH16_AK'][15]\n",
    "wiki_dfs['USH16_DE'] = wiki_tables['USH16_DE'][17]\n",
    "wiki_dfs['USH16_MT'] = wiki_tables['USH16_MT'][10]\n",
    "wiki_dfs['USH16_ND'] = wiki_tables['USH16_ND'][11]\n",
    "wiki_dfs['USH16_SD'] = wiki_tables['USH16_SD'][8]\n",
    "wiki_dfs['USH16_VT'] = wiki_tables['USH16_VT'][10]\n",
    "wiki_dfs['USH16_WY'] = wiki_tables['USH16_WY'][21]"
   ]
  },
  {
   "cell_type": "markdown",
   "metadata": {},
   "source": [
    "__2017 United States Senate election data (``SEN17``)__"
   ]
  },
  {
   "cell_type": "code",
   "execution_count": 21,
   "metadata": {},
   "outputs": [],
   "source": [
    "# All election data below are at the State-level\n",
    "\n",
    "wiki_dfs['SEN17_AL'] = wiki_tables['SEN17_AL'][48]"
   ]
  },
  {
   "cell_type": "markdown",
   "metadata": {},
   "source": [
    "__2017 United States House of Representative election data (``USH17``)__"
   ]
  },
  {
   "cell_type": "code",
   "execution_count": 22,
   "metadata": {},
   "outputs": [],
   "source": [
    "# No such data exists"
   ]
  },
  {
   "cell_type": "markdown",
   "metadata": {},
   "source": [
    "__2018 United States Senate election data (``SEN18``)__"
   ]
  },
  {
   "cell_type": "code",
   "execution_count": 23,
   "metadata": {},
   "outputs": [],
   "source": [
    "# All election data below are at the State-level\n",
    "\n",
    "wiki_dfs['SEN18_AZ'] = wiki_tables['SEN18_AZ'][40]\n",
    "wiki_dfs['SEN18_CA'] = wiki_tables['SEN18_CA'][54]\n",
    "wiki_dfs['SEN18_CT'] = wiki_tables['SEN18_CT'][17] \n",
    "wiki_dfs['SEN18_DE'] = wiki_tables['SEN18_DE'][29]\n",
    "wiki_dfs['SEN18_FL'] = wiki_tables['SEN18_FL'][29]\n",
    "wiki_dfs['SEN18_HI'] = wiki_tables['SEN18_HI'][14]\n",
    "wiki_dfs['SEN18_IN'] = wiki_tables['SEN18_IN'][29]\n",
    "wiki_dfs['SEN18_ME'] = wiki_tables['SEN18_ME'][20]\n",
    "wiki_dfs['SEN18_MD'] = wiki_tables['SEN18_MD'][25]\n",
    "wiki_dfs['SEN18_MA'] = wiki_tables['SEN18_MA'][29]\n",
    "wiki_dfs['SEN18_MI'] = wiki_tables['SEN18_MI'][30]\n",
    "wiki_dfs['SEN18_MN'] = wiki_tables['SEN18_MN'][20]\n",
    "wiki_dfs['SEN18_MS'] = wiki_tables['SEN18_MS'][23]\n",
    "wiki_dfs['SEN18_MO'] = wiki_tables['SEN18_MO'][35]\n",
    "wiki_dfs['SEN18_MT'] = wiki_tables['SEN18_MT'][22]\n",
    "wiki_dfs['SEN18_NE'] = wiki_tables['SEN18_NE'][19]\n",
    "wiki_dfs['SEN18_NV'] = wiki_tables['SEN18_NV'][28]\n",
    "wiki_dfs['SEN18_NJ'] = wiki_tables['SEN18_NJ'][22]\n",
    "wiki_dfs['SEN18_NM'] = wiki_tables['SEN18_NM'][21]\n",
    "wiki_dfs['SEN18_NY'] = wiki_tables['SEN18_NY'][16]\n",
    "wiki_dfs['SEN18_ND'] = wiki_tables['SEN18_ND'][23]\n",
    "wiki_dfs['SEN18_OH'] = wiki_tables['SEN18_OH'][32]\n",
    "wiki_dfs['SEN18_PA'] = wiki_tables['SEN18_PA'][28]\n",
    "wiki_dfs['SEN18_RI'] = wiki_tables['SEN18_RI'][17]\n",
    "wiki_dfs['SEN18_TN'] = wiki_tables['SEN18_TN'][29]\n",
    "wiki_dfs['SEN18_TX'] = wiki_tables['SEN18_TX'][37]\n",
    "wiki_dfs['SEN18_UT'] = wiki_tables['SEN18_UT'][31]\n",
    "wiki_dfs['SEN18_VT'] = wiki_tables['SEN18_VT'][13]\n",
    "wiki_dfs['SEN18_VA'] = wiki_tables['SEN18_VA'][32]\n",
    "wiki_dfs['SEN18_WA'] = wiki_tables['SEN18_WA'][12]\n",
    "wiki_dfs['SEN18_WV'] = wiki_tables['SEN18_WV'][31]\n",
    "wiki_dfs['SEN18_WI'] = wiki_tables['SEN18_WI'][27]\n",
    "wiki_dfs['SEN18_WY'] = wiki_tables['SEN18_WY'][13]"
   ]
  },
  {
   "cell_type": "markdown",
   "metadata": {},
   "source": [
    "__2018 United States House of Representative election data (``USH18``)__"
   ]
  },
  {
   "cell_type": "code",
   "execution_count": 24,
   "metadata": {},
   "outputs": [],
   "source": [
    "# All election data below are at the State-level\n",
    "\n",
    "wiki_dfs['USH18_AK'] = wiki_tables['USH18_AK'][14]\n",
    "wiki_dfs['USH18_DE'] = wiki_tables['USH18_DE'][19]\n",
    "wiki_dfs['USH18_MT'] = wiki_tables['USH18_MT'][13]\n",
    "wiki_dfs['USH18_ND'] = wiki_tables['USH18_ND'][15]\n",
    "wiki_dfs['USH18_SD'] = wiki_tables['USH18_SD'][11]\n",
    "wiki_dfs['USH18_VT'] = wiki_tables['USH18_VT'][12]\n",
    "wiki_dfs['USH18_WY'] = wiki_tables['USH18_WY'][10]"
   ]
  },
  {
   "cell_type": "markdown",
   "metadata": {},
   "source": [
    "Step 5. Save raw scraped tables locally\n",
    "----------------------------------------------\n",
    "\n",
    "For future auditing and granular data analysis."
   ]
  },
  {
   "cell_type": "code",
   "execution_count": null,
   "metadata": {},
   "outputs": [],
   "source": [
    "for election in wiki_dfs:\n",
    "    outpath = os.path.join('wiki', 'raw', election + '.csv')\n",
    "    et.ExtractTable(wiki_dfs[election], \n",
    "                    outfile=outpath).extract_to_file()"
   ]
  },
  {
   "cell_type": "markdown",
   "metadata": {},
   "source": [
    "Step 6. Wrangle Wikipedia data\n",
    "-------------------------------------"
   ]
  },
  {
   "cell_type": "code",
   "execution_count": 91,
   "metadata": {},
   "outputs": [],
   "source": [
    "def get_key_tuple(key: str) -> Tuple[str, str]:\n",
    "    key_components = key.split('_')\n",
    "    return (key_components[0], key_components[1])"
   ]
  },
  {
   "cell_type": "code",
   "execution_count": 92,
   "metadata": {},
   "outputs": [],
   "source": [
    "def get_state_tuple(state_key: str) -> Tuple[str, str]:\n",
    "    state_tup = [tup for tup in states if tup[1] == state_key]\n",
    "    state_name, state_abv = state_tup[0]\n",
    "    return (state_name.upper(), state_abv)"
   ]
  },
  {
   "cell_type": "code",
   "execution_count": 93,
   "metadata": {},
   "outputs": [],
   "source": [
    "def generate_empty_standardized_df(state_name: str) -> pd.DataFrame:\n",
    "    standardized_cols = ['STATE', \n",
    "                         'PRES16D', 'PRES16G', 'PRES16L', 'PRES16R',\n",
    "                         'SEN16D',  'SEN16G',  'SEN16L',  'SEN16R',\n",
    "                         'USH16D',  'USH16G',  'USH16L',  'USH16R',\n",
    "                         'SEN17D',  'SEN17G',  'SEN17L',  'SEN17R',\n",
    "                         'USH17D',  'USH17G',  'USH17L',  'USH17R',\n",
    "                         'SEN18D',  'SEN18G',  'SEN18L',  'SEN18R',\n",
    "                         'USH18D',  'USH18G',  'USH18L',  'USH18R']\n",
    "    \n",
    "    standardized_data = [[state_name,\n",
    "                         np.nan, np.nan, np.nan, np.nan,\n",
    "                         np.nan, np.nan, np.nan, np.nan,\n",
    "                         np.nan, np.nan, np.nan, np.nan,\n",
    "                         np.nan, np.nan, np.nan, np.nan,\n",
    "                         np.nan, np.nan, np.nan, np.nan,\n",
    "                         np.nan, np.nan, np.nan, np.nan,\n",
    "                         np.nan, np.nan, np.nan, np.nan]]\n",
    "    \n",
    "    df = pd.DataFrame(columns=standardized_cols, data=standardized_data)\n",
    "    return df"
   ]
  },
  {
   "cell_type": "code",
   "execution_count": 94,
   "metadata": {},
   "outputs": [],
   "source": [
    "def get_standardized_df(standardized, state_name) -> pd.DataFrame:\n",
    "    try:\n",
    "        return standardized[state_name]\n",
    "    except:\n",
    "        standardized[state_name] = generate_empty_standardized_df(state_name)\n",
    "        return standardized[state_name]"
   ]
  },
  {
   "cell_type": "code",
   "execution_count": 95,
   "metadata": {},
   "outputs": [],
   "source": [
    "\"\"\" \n",
    "Format for each standardized DataFrame:\n",
    "\n",
    "STATE   | PRES16D | PRES16G | PRES16L | PRES16R | SEN16D | SEN16G | ... | USH18R\n",
    "---------------------------------------------------------------------------------\n",
    "ALABAMA | ...\n",
    "\n",
    "\"\"\"\n",
    "\n",
    "standardized_wiki_dfs = {}\n",
    "\n",
    "for wiki_key in wiki_dfs:\n",
    "    election_key, state_key = get_key_tuple(wiki_key)\n",
    "    state_name, state_abv = get_state_tuple(state_key)\n",
    "    \n",
    "    standardized_df = get_standardized_df(standardized_wiki_dfs, state_name)\n",
    "    \n",
    "    # TODO insert vote counts"
   ]
  },
  {
   "cell_type": "code",
   "execution_count": 96,
   "metadata": {},
   "outputs": [],
   "source": [
    "\"\"\" \n",
    "Format for concatenated standardized DataFrame:\n",
    "\n",
    "STATE   | PRES16D | PRES16G | PRES16L | PRES16R | SEN16D | SEN16G | ... | USH18R\n",
    "---------------------------------------------------------------------------------\n",
    "ALABAMA | ...\n",
    "ALASKA  | ...\n",
    "...\n",
    "WYOMING | ...\n",
    "\n",
    "\"\"\"\n",
    "\n",
    "wiki_states_df = pd.DataFrame()\n",
    "for key in standardized_wiki_dfs:\n",
    "    wiki_states_df = pd.concat([wiki_states_df, standardized_wiki_dfs[key]])"
   ]
  },
  {
   "cell_type": "markdown",
   "metadata": {},
   "source": [
    "Step 7. Save processed Wikipedia data locally\n",
    "------------------------------------------------------"
   ]
  },
  {
   "cell_type": "code",
   "execution_count": 97,
   "metadata": {},
   "outputs": [],
   "source": [
    "wiki_df_outfile = os.path.join('wiki', 'wiki_states.csv')\n",
    "\n",
    "wiki_et = et.ExtractTable(wiki_states_df, column='STATE', \n",
    "                outfile=wiki_df_outfile).extract_to_file()"
   ]
  }
 ],
 "metadata": {
  "kernelspec": {
   "display_name": "Python 3",
   "language": "python",
   "name": "python3"
  },
  "language_info": {
   "codemirror_mode": {
    "name": "ipython",
    "version": 3
   },
   "file_extension": ".py",
   "mimetype": "text/x-python",
   "name": "python",
   "nbconvert_exporter": "python",
   "pygments_lexer": "ipython3",
   "version": "3.8.5"
  }
 },
 "nbformat": 4,
 "nbformat_minor": 4
}
