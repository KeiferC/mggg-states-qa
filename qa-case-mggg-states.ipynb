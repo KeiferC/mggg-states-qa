{
 "cells": [
  {
   "cell_type": "markdown",
   "metadata": {},
   "source": [
    "Data QA Case: ``mggg-states``\n",
    "========================\n",
    "\n",
    "Below are the steps involved in performing automated data quality checks on ``mggg-states`` data. \n",
    "\n",
    "*Note:* the automated checks are not completely exhaustive and further manual checks are required.\n",
    "\n",
    "Step 0. Setup\n",
    "----------------"
   ]
  },
  {
   "cell_type": "code",
   "execution_count": 1,
   "metadata": {},
   "outputs": [],
   "source": [
    "# !pip3 install numpy\n",
    "# !pip3 install pandas\n",
    "# !pip3 install geopandas\n",
    "# !pip3 install wikipedia\n",
    "\n",
    "# !pip3 install git+https://github.com/KeiferC/gdutils.git"
   ]
  },
  {
   "cell_type": "code",
   "execution_count": 2,
   "metadata": {},
   "outputs": [],
   "source": [
    "import numpy as np\n",
    "import pandas as pd\n",
    "import geopandas as gpd\n",
    "import json\n",
    "import wikipedia\n",
    "import os\n",
    "\n",
    "import gdutils.datamine as dm\n",
    "import gdutils.dataqa as dq\n",
    "import gdutils.extract as et\n",
    "\n",
    "from typing import Any, List, Tuple, Dict, Hashable, Union, NoReturn"
   ]
  },
  {
   "cell_type": "markdown",
   "metadata": {},
   "source": [
    "Step 1. Data collection\n",
    "---------------------------"
   ]
  },
  {
   "cell_type": "code",
   "execution_count": 3,
   "metadata": {},
   "outputs": [],
   "source": [
    "state_names = [\n",
    "    'Alabama', 'Alaska','Arizona', 'Arkansas', 'California', \n",
    "    'Colorado', 'Connecticut', 'Delaware',  'Florida', 'Georgia', \n",
    "    'Hawaii', 'Idaho', 'Illinois', 'Indiana', 'Iowa', \n",
    "    'Kansas', 'Kentucky', 'Louisiana', 'Maine', 'Maryland', \n",
    "    'Massachusetts', 'Michigan', 'Minnesota', 'Mississippi', 'Missouri', \n",
    "    'Montana', 'Nebraska', 'Nevada', 'New Hampshire', 'New Jersey', \n",
    "    'New Mexico', 'New York', 'North Carolina', 'North Dakota', 'Ohio', \n",
    "    'Oklahoma', 'Oregon', 'Pennsylvania', 'Rhode Island', 'South Carolina', \n",
    "    'South Dakota', 'Tennessee', 'Texas', 'Utah', 'Vermont', \n",
    "    'Virginia', 'Washington', 'West Virginia', 'Wisconsin', 'Wyoming']\n",
    "state_abbreviations = [\n",
    "    'AL', 'AK', 'AZ', 'AR', 'CA', \n",
    "    'CO', 'CT', 'DE', 'FL', 'GA', \n",
    "    'HI', 'ID', 'IL', 'IN', 'IA', \n",
    "    'KS', 'KY', 'LA', 'ME', 'MD', \n",
    "    'MA', 'MI', 'MN', 'MS', 'MO', \n",
    "    'MT', 'NE', 'NV', 'NH', 'NJ', \n",
    "    'NM', 'NY', 'NC', 'ND', 'OH', \n",
    "    'OK', 'OR', 'PA', 'RI', 'SC', \n",
    "    'SD', 'TN', 'TX', 'UT', 'VT', \n",
    "    'VA', 'WA', 'WV', 'WI', 'WY']\n",
    "\n",
    "states = list(zip(state_names, state_abbreviations))"
   ]
  },
  {
   "cell_type": "markdown",
   "metadata": {},
   "source": [
    "__Step 1.1.__ Gather ``mggg-states`` data"
   ]
  },
  {
   "cell_type": "code",
   "execution_count": 4,
   "metadata": {},
   "outputs": [],
   "source": [
    "# dm.clone_gh_repos(account='mggg-states', account_type='orgs', \n",
    "#                   outpath=os.path.join('qafiles', 'mggg'))\n",
    "#     # this will take some time to complete"
   ]
  },
  {
   "cell_type": "code",
   "execution_count": 5,
   "metadata": {},
   "outputs": [],
   "source": [
    "mggg_gdfs = {}\n",
    "\n",
    "for filepath in dm.list_files_of_type('.zip', os.path.join('qafiles', 'mggg')):\n",
    "      mggg_gdfs[os.path.basename(filepath)[:-4]] = et.read_file(filepath).extract()"
   ]
  },
  {
   "cell_type": "markdown",
   "metadata": {},
   "source": [
    "__Step 1.2.__ Gather MEDSL data for comparison purposes"
   ]
  },
  {
   "cell_type": "code",
   "execution_count": null,
   "metadata": {},
   "outputs": [],
   "source": [
    "# print('{:27} : {}'.format('Repo Name', 'Repo URL'))\n",
    "# print('------------------------------------------------------------------')\n",
    "# for (repo, url) in dm.list_gh_repos(account='MEDSL', account_type='orgs'):\n",
    "#     print(\"{:27} : {}\".format(repo, url))"
   ]
  },
  {
   "cell_type": "code",
   "execution_count": 7,
   "metadata": {},
   "outputs": [],
   "source": [
    "medsl_repos = ['official-precinct-returns', # precinct-level 2016 election results\n",
    "               '2018-elections-official'] # constituency-level 2018 election results\n",
    "    \n",
    "# dm.clone_gh_repos(account='MEDSL', account_type='orgs', repos=medsl_repos, \n",
    "#                   outpath=os.path.join('qafiles', 'medsl'))\n",
    "#     # this will take some time to complete"
   ]
  },
  {
   "cell_type": "code",
   "execution_count": 8,
   "metadata": {},
   "outputs": [],
   "source": [
    "medsl_dfs = {}\n",
    "\n",
    "for filepath in dm.list_files_of_type('.zip', os.path.join('qafiles', 'medsl')):\n",
    "    medsl_dfs[os.path.basename(filepath)[:-4]] = et.read_file(filepath).extract()"
   ]
  },
  {
   "cell_type": "markdown",
   "metadata": {},
   "source": [
    "__Step 1.3.__ Gather Wikipedia data for comparison purposes"
   ]
  },
  {
   "cell_type": "code",
   "execution_count": 9,
   "metadata": {},
   "outputs": [],
   "source": [
    "# Generate wikipedia page titles\n",
    "pres_election = [('PRES', 'United States presidential election')]\n",
    "fed_elections = [('SEN', 'United States Senate election')]\n",
    "               # ('USH', United States House of Representatives election')]\n",
    "election_years_to_check = [2016, 2018]\n",
    "\n",
    "wiki_titles = []\n",
    "for yr in election_years_to_check:\n",
    "    generate_key = lambda yr, ekey: ekey + str(yr % 100)\n",
    "    generate_title = lambda yr, etype: str(yr) + ' ' + etype\n",
    "    \n",
    "    if yr % 4 == 0:\n",
    "        wiki_titles.append((generate_key(yr, pres_election[0][0]),\n",
    "                            generate_title(yr, pres_election[0][1])))\n",
    "        \n",
    "    [wiki_titles.append(((generate_key(yr, ekey) + '_' + st_abv),\n",
    "                         (generate_title(yr, etype) + ' in ' + st) ))\n",
    "         for ekey, etype in fed_elections\n",
    "         for st, st_abv in states]"
   ]
  },
  {
   "cell_type": "code",
   "execution_count": 10,
   "metadata": {},
   "outputs": [],
   "source": [
    "# Gather wikipedia page URLs\n",
    "wiki_urls = {}\n",
    "for wiki_title in wiki_titles:\n",
    "    key, title = wiki_title\n",
    "    try:\n",
    "        wiki_urls[key] = (title, wikipedia.page(title=title).url)\n",
    "    except Exception as e:\n",
    "        continue"
   ]
  },
  {
   "cell_type": "code",
   "execution_count": null,
   "metadata": {},
   "outputs": [],
   "source": [
    "# Print retrieved page URLs\n",
    "# ^ necessary for verifying URL - election mapping\n",
    "# Wikipedia API tries to find best match, not exact match\n",
    "\n",
    "for wiki_key in wiki_urls:\n",
    "    title, url = wiki_urls[wiki_key]\n",
    "    print('{:10} : {}\\n\\t{}'.format(wiki_key, title, url))"
   ]
  },
  {
   "cell_type": "code",
   "execution_count": null,
   "metadata": {},
   "outputs": [],
   "source": [
    "# Gather wikipedia tabular election results\n",
    "wiki_tables = {}\n",
    "for wiki_key in wiki_urls:\n",
    "    try:\n",
    "        wiki_tables[wiki_key] = pd.read_html(wiki_urls[wiki_key][1])\n",
    "    except Exception as e:\n",
    "        print(\"Unable to gather Wikipedia tabular data:\", e)"
   ]
  },
  {
   "cell_type": "code",
   "execution_count": null,
   "metadata": {
    "scrolled": true
   },
   "outputs": [],
   "source": [
    "# Display wikipedia tabular election data\n",
    "# ^ necessary for finding applicable table\n",
    "\n",
    "# for wiki in wiki_tables:\n",
    "#     print('================================================')\n",
    "#     print('Wiki: {} '.format(wiki))\n",
    "#     print('================================================')\n",
    "    \n",
    "#     for i in range(len(wiki_tables[wiki])):\n",
    "#         print('TABLE {}: ############################\\n{}\\n\\n\\n'.format(\n",
    "#                 i, wiki_tables[wiki][i].head()))"
   ]
  },
  {
   "cell_type": "code",
   "execution_count": 33,
   "metadata": {},
   "outputs": [],
   "source": [
    "# Manually gather found tabular election results\n",
    "wiki_dfs = {}\n",
    "\n",
    "# wiki_pres16_by_state = [{state_abv : table} for _______] # TODO\n",
    "\n",
    "# has to be done manually because every wikipedia page is different\n",
    "\n",
    "# wiki_dfs['PRES16_AL'] = wiki_pres16_by_state['AL']\n",
    "# wiki_dfs['PRES16_AK'] = wiki_pres16_by_state['AK']\n",
    "# wiki_dfs['PRES16_AZ'] = wiki_pres16_by_state['AZ']\n",
    "# wiki_dfs['PRES16_AR'] = wiki_pres16_by_state['AR']\n",
    "# wiki_dfs['PRES16_CA'] = wiki_pres16_by_state['CA']\n",
    "# wiki_dfs['PRES16_CO'] = wiki_pres16_by_state['CO']\n",
    "# wiki_dfs['PRES16_CT'] = wiki_pres16_by_state['CT']\n",
    "# wiki_dfs['PRES16_DE'] = wiki_pres16_by_state['DE']\n",
    "# wiki_dfs['PRES16_FL'] = wiki_pres16_by_state['FL']\n",
    "# wiki_dfs['PRES16_GA'] = wiki_pres16_by_state['GA']\n",
    "# wiki_dfs['PRES16_HI'] = wiki_pres16_by_state['HI']\n",
    "# wiki_dfs['PRES16_ID'] = wiki_pres16_by_state['ID']\n",
    "# wiki_dfs['PRES16_IL'] = wiki_pres16_by_state['IL']\n",
    "# wiki_dfs['PRES16_IN'] = wiki_pres16_by_state['IN']\n",
    "# wiki_dfs['PRES16_IA'] = wiki_pres16_by_state['IA']\n",
    "# wiki_dfs['PRES16_KS'] = wiki_pres16_by_state['KS']\n",
    "# wiki_dfs['PRES16_KY'] = wiki_pres16_by_state['KY']\n",
    "# wiki_dfs['PRES16_LA'] = wiki_pres16_by_state['LA']\n",
    "# wiki_dfs['PRES16_ME'] = wiki_pres16_by_state['ME']\n",
    "# wiki_dfs['PRES16_MD'] = wiki_pres16_by_state['MD']\n",
    "# wiki_dfs['PRES16_MA'] = wiki_pres16_by_state['MA']\n",
    "# wiki_dfs['PRES16_MI'] = wiki_pres16_by_state['MI']\n",
    "# wiki_dfs['PRES16_MN'] = wiki_pres16_by_state['MN']\n",
    "# wiki_dfs['PRES16_MS'] = wiki_pres16_by_state['MS']\n",
    "# wiki_dfs['PRES16_MO'] = wiki_pres16_by_state['MO']\n",
    "# wiki_dfs['PRES16_MT'] = wiki_pres16_by_state['MT']\n",
    "# wiki_dfs['PRES16_NE'] = wiki_pres16_by_state['NE']\n",
    "# wiki_dfs['PRES16_NV'] = wiki_pres16_by_state['NV']\n",
    "# wiki_dfs['PRES16_NH'] = wiki_pres16_by_state['NH']\n",
    "# wiki_dfs['PRES16_NJ'] = wiki_pres16_by_state['NJ']\n",
    "# wiki_dfs['PRES16_NM'] = wiki_pres16_by_state['NM']\n",
    "# wiki_dfs['PRES16_NY'] = wiki_pres16_by_state['NY']\n",
    "# wiki_dfs['PRES16_NC'] = wiki_pres16_by_state['NC']\n",
    "# wiki_dfs['PRES16_ND'] = wiki_pres16_by_state['ND']\n",
    "# wiki_dfs['PRES16_OH'] = wiki_pres16_by_state['OH']\n",
    "# wiki_dfs['PRES16_OK'] = wiki_pres16_by_state['OK']\n",
    "# wiki_dfs['PRES16_OR'] = wiki_pres16_by_state['OR']\n",
    "# wiki_dfs['PRES16_PA'] = wiki_pres16_by_state['PA']\n",
    "# wiki_dfs['PRES16_RI'] = wiki_pres16_by_state['RI']\n",
    "# wiki_dfs['PRES16_SC'] = wiki_pres16_by_state['SC']\n",
    "# wiki_dfs['PRES16_SD'] = wiki_pres16_by_state['SD']\n",
    "# wiki_dfs['PRES16_TN'] = wiki_pres16_by_state['TN']\n",
    "# wiki_dfs['PRES16_TX'] = wiki_pres16_by_state['TX']\n",
    "# wiki_dfs['PRES16_UT'] = wiki_pres16_by_state['UT']\n",
    "# wiki_dfs['PRES16_VT'] = wiki_pres16_by_state['VT']\n",
    "# wiki_dfs['PRES16_VA'] = wiki_pres16_by_state['VA']\n",
    "# wiki_dfs['PRES16_WA'] = wiki_pres16_by_state['WA']\n",
    "# wiki_dfs['PRES16_WV'] = wiki_pres16_by_state['WV']\n",
    "# wiki_dfs['PRES16_WI'] = wiki_pres16_by_state['WI']\n",
    "# wiki_dfs['PRES16_WY'] = wiki_pres16_by_state['WY']\n",
    "\n",
    "wiki_dfs['SEN16_AL'] = wiki_tables['SEN16_AL'][19]\n",
    "wiki_dfs['SEN16_AK'] = wiki_tables['SEN16_AK'][20]\n",
    "wiki_dfs['SEN16_AZ'] = wiki_tables['SEN16_AZ'][45]\n",
    "wiki_dfs['SEN16_AR'] = wiki_tables['SEN16_AR'][16]\n",
    "wiki_dfs['SEN16_CA'] = wiki_tables['SEN16_CA'][53]\n",
    "wiki_dfs['SEN16_CO'] = wiki_tables['SEN16_CO'][25]\n",
    "wiki_dfs['SEN16_CT'] = wiki_tables['SEN16_CT'][20]\n",
    "wiki_dfs['SEN16_FL'] = wiki_tables['SEN16_FL'][64]\n",
    "wiki_dfs['SEN16_GA'] = wiki_tables['SEN16_GA'][16]\n",
    "wiki_dfs['SEN16_HI'] = wiki_tables['SEN16_HI'][18]\n",
    "wiki_dfs['SEN16_ID'] = wiki_tables['SEN16_ID'][15]\n",
    "wiki_dfs['SEN16_IL'] = wiki_tables['SEN16_IL'][29]\n",
    "wiki_dfs['SEN16_IN'] = wiki_tables['SEN16_IN'][25]\n",
    "wiki_dfs['SEN16_IA'] = wiki_tables['SEN16_IA'][20]\n",
    "wiki_dfs['SEN16_KS'] = wiki_tables['SEN16_KS'][17]\n",
    "wiki_dfs['SEN16_KY'] = wiki_tables['SEN16_KY'][22]\n",
    "wiki_dfs['SEN16_LA'] = wiki_tables['SEN16_LA'][24]\n",
    "wiki_dfs['SEN16_MD'] = wiki_tables['SEN16_MD'][29]\n",
    "wiki_dfs['SEN16_MO'] = wiki_tables['SEN16_MO'][24]\n",
    "wiki_dfs['SEN16_NV'] = wiki_tables['SEN16_NV'][32]\n",
    "wiki_dfs['SEN16_NH'] = wiki_tables['SEN16_NH'][23]\n",
    "wiki_dfs['SEN16_NY'] = wiki_tables['SEN16_NY'][15]\n",
    "wiki_dfs['SEN16_NC'] = wiki_tables['SEN16_NC'][42]\n",
    "wiki_dfs['SEN16_ND'] = wiki_tables['SEN16_ND'][14]\n",
    "wiki_dfs['SEN16_OH'] = wiki_tables['SEN16_OH'][29]\n",
    "wiki_dfs['SEN16_OK'] = wiki_tables['SEN16_OK'][12]\n",
    "wiki_dfs['SEN16_OR'] = wiki_tables['SEN16_OR'][14]\n",
    "wiki_dfs['SEN16_PA'] = wiki_tables['SEN16_PA'][38]\n",
    "wiki_dfs['SEN16_SC'] = wiki_tables['SEN16_SC'][16]\n",
    "wiki_dfs['SEN16_SD'] = wiki_tables['SEN16_SD'][9]\n",
    "wiki_dfs['SEN16_UT'] = wiki_tables['SEN16_UT'][19]\n",
    "wiki_dfs['SEN16_VT'] = wiki_tables['SEN16_VT'][12]\n",
    "wiki_dfs['SEN16_WA'] = wiki_tables['SEN16_WA'][15]\n",
    "wiki_dfs['SEN16_WI'] = wiki_tables['SEN16_WI'][21]\n",
    "\n",
    "wiki_dfs['SEN18_AZ'] = wiki_tables['SEN18_AZ'][40]\n",
    "wiki_dfs['SEN18_CA'] = wiki_tables['SEN18_CA'][54]\n",
    "wiki_dfs['SEN18_CT'] = wiki_tables['SEN18_CT'][17]\n",
    "wiki_dfs['SEN18_DE'] = wiki_tables['SEN18_DE'][29]\n",
    "wiki_dfs['SEN18_FL'] = wiki_tables['SEN18_FL'][29]\n",
    "wiki_dfs['SEN18_HI'] = wiki_tables['SEN18_HI'][14]\n",
    "wiki_dfs['SEN18_IN'] = wiki_tables['SEN18_IN'][29]\n",
    "wiki_dfs['SEN18_ME'] = wiki_tables['SEN18_ME'][20]\n",
    "wiki_dfs['SEN18_MD'] = wiki_tables['SEN18_MD'][25]\n",
    "wiki_dfs['SEN18_MA'] = wiki_tables['SEN18_MA'][29]\n",
    "wiki_dfs['SEN18_MI'] = wiki_tables['SEN18_MI'][30]\n",
    "wiki_dfs['SEN18_MN'] = wiki_tables['SEN18_MN'][20]\n",
    "wiki_dfs['SEN18_MS'] = wiki_tables['SEN18_MS'][23]\n",
    "wiki_dfs['SEN18_MO'] = wiki_tables['SEN18_MO'][35]\n",
    "wiki_dfs['SEN18_MT'] = wiki_tables['SEN18_MT'][22]\n",
    "wiki_dfs['SEN18_NE'] = wiki_tables['SEN18_NE'][19]\n",
    "wiki_dfs['SEN18_NV'] = wiki_tables['SEN18_NV'][28]\n",
    "wiki_dfs['SEN18_NJ'] = wiki_tables['SEN18_NJ'][22]\n",
    "wiki_dfs['SEN18_NM'] = wiki_tables['SEN18_NM'][21]\n",
    "wiki_dfs['SEN18_NY'] = wiki_tables['SEN18_NY'][16]\n",
    "wiki_dfs['SEN18_ND'] = wiki_tables['SEN18_ND'][23]\n",
    "wiki_dfs['SEN18_OH'] = wiki_tables['SEN18_OH'][32]\n",
    "wiki_dfs['SEN18_PA'] = wiki_tables['SEN18_PA'][28]\n",
    "wiki_dfs['SEN18_RI'] = wiki_tables['SEN18_RI'][17]\n",
    "wiki_dfs['SEN18_TN'] = wiki_tables['SEN18_TN'][29]\n",
    "wiki_dfs['SEN18_TX'] = wiki_tables['SEN18_TX'][37]\n",
    "wiki_dfs['SEN18_UT'] = wiki_tables['SEN18_UT'][31]\n",
    "wiki_dfs['SEN18_VT'] = wiki_tables['SEN18_VT'][13]\n",
    "wiki_dfs['SEN18_VA'] = wiki_tables['SEN18_VA'][32]\n",
    "wiki_dfs['SEN18_WA'] = wiki_tables['SEN18_WA'][12]\n",
    "wiki_dfs['SEN18_WV'] = wiki_tables['SEN18_WV'][31]\n",
    "wiki_dfs['SEN18_WI'] = wiki_tables['SEN18_WI'][27]\n",
    "wiki_dfs['SEN18_WY'] = wiki_tables['SEN18_WY'][13]"
   ]
  },
  {
   "cell_type": "code",
   "execution_count": 35,
   "metadata": {},
   "outputs": [],
   "source": [
    "# Save all the scraped tables\n",
    "\n",
    "# for election in wiki_dfs:\n",
    "#     outpath = os.path.join('qafiles', 'wiki', election + '.csv')\n",
    "#     et.ExtractTable(wiki_dfs[election], \n",
    "#                     outfile=outpath).extract_to_file()"
   ]
  },
  {
   "cell_type": "markdown",
   "metadata": {},
   "source": [
    "[Coming Soon] __Step 1.4.__ Gather Ballotpedia data for comparison purposes\n",
    "\n",
    "*Note:* Depending on response to API access, this step may need to be done manually"
   ]
  },
  {
   "cell_type": "markdown",
   "metadata": {},
   "source": [
    "Step 2. Data wrangling\n",
    "---------------------------"
   ]
  },
  {
   "cell_type": "markdown",
   "metadata": {},
   "source": [
    "__Step 2.1.__ Wrangle MEDSL data"
   ]
  },
  {
   "cell_type": "code",
   "execution_count": 15,
   "metadata": {},
   "outputs": [],
   "source": [
    "def pivot_medsl(medsl_dfs_dict: Dict[str, Union[pd.DataFrame, gpd.GeoDataFrame]]\n",
    "        ) -> Dict[str, Union[pd.DataFrame, gpd.GeoDataFrame]]:\n",
    "    for df in medsl_dfs_dict:\n",
    "        medsl_pvt = medsl_dfs_dict[df].pivot_table(index='precinct',\n",
    "                                                   columns=['office', 'party'],\n",
    "                                                   values='votes')\n",
    "        medsl_pvt.columns = [' '.join(col).strip() for col in medsl_pvt.columns.values]\n",
    "        medsl_dfs_dict[df] = et.ExtractTable(medsl_pvt).extract()"
   ]
  },
  {
   "cell_type": "code",
   "execution_count": null,
   "metadata": {},
   "outputs": [],
   "source": [
    "# View available data\n",
    "for df in medsl_dfs:\n",
    "    print('--------{}--------'.format(df))\n",
    "    print(medsl_dfs[df].head())"
   ]
  },
  {
   "cell_type": "code",
   "execution_count": null,
   "metadata": {},
   "outputs": [],
   "source": [
    "# Extract relevant MEDSL election data\n",
    "medsl_18_dfs = {}\n",
    "medsl_pres16_dfs = {}\n",
    "medsl_sen16_dfs = {}\n",
    "medsl_ush16_dfs = {}\n",
    "\n",
    "for state in states:\n",
    "    st, st_abv = state\n",
    "    try:\n",
    "        medsl_18_dfs[st] = et.ExtractTable(medsl_dfs['precinct_2018'], \n",
    "                                           column='state', value=st).extract()\n",
    "    except Exception as e:\n",
    "        print('Missing data in medsl_18:', e)\n",
    "    \n",
    "    try:\n",
    "        medsl_pres16_dfs[st] = et.ExtractTable(medsl_dfs['2016-precinct-president'], \n",
    "                                               column='state', value=st).extract()\n",
    "    except Exception as e:\n",
    "        print('Missing data in medsl_pres16:', e)\n",
    "    \n",
    "    try:\n",
    "        medsl_sen16_dfs[st] = et.ExtractTable(medsl_dfs['2016-precinct-senate'], \n",
    "                                               column='state', value=st).extract()\n",
    "    except Exception as e:\n",
    "        print('Missing data in medsl_sen16:', e)\n",
    "    \n",
    "    try:\n",
    "        medsl_ush16_dfs[st] = et.ExtractTable(medsl_dfs['2016-precinct-house'], \n",
    "                                               column='state', value=st).extract()\n",
    "    except Exception as e:\n",
    "        print('Missing data in medsl_ush16:', e)\n",
    "\n",
    "        \n",
    "pivot_medsl(medsl_18_dfs)\n",
    "pivot_medsl(medsl_pres16_dfs)\n",
    "pivot_medsl(medsl_sen16_dfs)\n",
    "pivot_medsl(medsl_ush16_dfs)"
   ]
  },
  {
   "cell_type": "markdown",
   "metadata": {},
   "source": [
    "Step 3. Data standardization check of ``mggg-states``\n",
    "---------------------------------------------------------------"
   ]
  },
  {
   "cell_type": "markdown",
   "metadata": {},
   "source": [
    "__Step 3.1__ Generate naming conventions"
   ]
  },
  {
   "cell_type": "code",
   "execution_count": 18,
   "metadata": {},
   "outputs": [],
   "source": [
    "with open('naming_convention.json') as json_file:\n",
    "    standards_raw = json.load(json_file)\n",
    "    \n",
    "offices = dm.get_keys_by_category(standards_raw, 'offices')\n",
    "parties = dm.get_keys_by_category(standards_raw, 'parties')\n",
    "counts = dm.get_keys_by_category(standards_raw, 'counts')\n",
    "others = dm.get_keys_by_category(standards_raw, \n",
    "            ['geographies', 'demographics', 'districts', 'other'])\n",
    "\n",
    "elections = [office + format(year, '02') + party \n",
    "                 for office in offices\n",
    "                 for year in range(0, 21)\n",
    "                 for party in parties \n",
    "                 if not (office == 'PRES' and year % 4 != 0)]\n",
    "\n",
    "counts = [count + format(year, '02') for count in counts \n",
    "                                     for year in range(0, 20)]\n",
    "\n",
    "standards = elections + counts + others"
   ]
  },
  {
   "cell_type": "markdown",
   "metadata": {},
   "source": [
    "__Step 3.2.__ Check ``mggg-states`` data compliance with naming conventions"
   ]
  },
  {
   "cell_type": "code",
   "execution_count": 19,
   "metadata": {},
   "outputs": [],
   "source": [
    "naming_check = {}\n",
    "\n",
    "for gdf in mggg_gdfs:\n",
    "      naming_check[gdf] = dq.compare_column_names(mggg_gdfs[gdf], standards)"
   ]
  },
  {
   "cell_type": "code",
   "execution_count": null,
   "metadata": {},
   "outputs": [],
   "source": [
    "matched_columns = {}\n",
    "\n",
    "# Print results\n",
    "for gdf in naming_check:\n",
    "    print('=========================================')\n",
    "    print('Dataset: {}'.format(gdf))\n",
    "    print('=========================================')\n",
    "    \n",
    "    (matches, diffs) = naming_check[gdf]\n",
    "    matched_columns[gdf] = matches\n",
    "    \n",
    "    diffs = list(diffs)\n",
    "    diffs.sort()\n",
    "    \n",
    "    print('Discrepancies from naming convention:')\n",
    "    print(diffs)\n",
    "    print()"
   ]
  },
  {
   "cell_type": "markdown",
   "metadata": {},
   "source": [
    "Step 4. Compare ``mggg-states`` data with external sources\n",
    "----------------------------------------------------------"
   ]
  },
  {
   "cell_type": "code",
   "execution_count": 21,
   "metadata": {},
   "outputs": [],
   "source": [
    "available_mggg_states = []\n",
    "for state in states:\n",
    "    state_name, state_abv = state\n",
    "    \n",
    "    # messy name matching because file naming isn't standardized\n",
    "    mggg_gdf_names = [gdf_name for gdf_name in list(mggg_gdfs) \n",
    "                               if gdf_name.startswith(state_abv.lower() + '_') or\n",
    "                                  gdf_name.startswith(state_abv + '_') or\n",
    "                                  gdf_name.startswith(state_name.lower() + '_') or\n",
    "                                  gdf_name.startswith(state_name.upper() + '_') or\n",
    "                                  gdf_name.startswith(state_name + '_') or\n",
    "                                  gdf_name.startswith(\n",
    "                                      state_name.replace(' ', '_').lower() + '_') or\n",
    "                                  gdf_name.startswith(\n",
    "                                      state_name.replace(' ', '_').upper() + '_') or\n",
    "                                  gdf_name.startswith(\n",
    "                                      state_name.replace(' ', '_') + '_')]\n",
    "                      \n",
    "    available_mggg_states.append((state_name, mggg_gdf_names))"
   ]
  },
  {
   "cell_type": "code",
   "execution_count": null,
   "metadata": {},
   "outputs": [],
   "source": [
    "# View available columns\n",
    "for state in available_mggg_states:\n",
    "    st, gdf_names = state\n",
    "    if gdf_names:\n",
    "        print('======== {} ========'.format(st))\n",
    "        for name in gdf_names:\n",
    "            print('{} --------'.format(name))\n",
    "            print(sorted(list(matched_columns[name])))\n",
    "            print()\n",
    "        print()"
   ]
  },
  {
   "cell_type": "markdown",
   "metadata": {},
   "source": [
    "__Step 4.1.__ Compare against MEDSL"
   ]
  },
  {
   "cell_type": "code",
   "execution_count": 23,
   "metadata": {},
   "outputs": [],
   "source": [
    "# Generate Naming Convention Translations between MGGG and MEDSL\n",
    "pres16_cols = [\n",
    "    ('PRES16D', 'US President democratic'), \n",
    "    ('PRES16G', 'US President green'), \n",
    "    ('PRES16L', 'US President libertarian'), \n",
    "    ('PRES16R', 'US President republican')\n",
    "]\n",
    "\n",
    "sen16_cols = [\n",
    "    ('SEN16D', 'US Senate democrat'),\n",
    "    ('SEN16G', 'US Senate green'),\n",
    "    ('SEN16L', 'US Senate libertarian'),\n",
    "    ('SEN16R', 'US Senate republican')\n",
    "]\n",
    "\n",
    "ush16_cols = [\n",
    "    ('USH16D', 'US House democratic'),\n",
    "    ('USH16G', 'US House green'),\n",
    "    ('USH16L', 'US House libertarian'),\n",
    "    ('USH16R', 'US House republican')\n",
    "]\n",
    "\n",
    "fed18_cols = [\n",
    "    ('SEN18D', 'US Senate democratic'),\n",
    "    ('SEN18G', 'US Senate green'),\n",
    "    ('SEN18L', 'US Senate libertarian'),\n",
    "    ('SEN18R', 'US Senate republican'),\n",
    "    ('USH18D', 'US House democrat'),\n",
    "    ('USH18G', 'US House green'),\n",
    "    ('USH18L', 'US House libertarian'),\n",
    "    ('USH18R', 'US House republican')\n",
    "]"
   ]
  },
  {
   "cell_type": "code",
   "execution_count": null,
   "metadata": {},
   "outputs": [],
   "source": [
    "def bulk_compare(bulk_results: Dict[str, List[Tuple[Hashable, Any]]], \n",
    "                 st: str, \n",
    "                 mggg_names: List[str], \n",
    "                 medsls: List[pd.DataFrame], \n",
    "                 cols: Tuple[str, str]\n",
    "        ) -> NoReturn: # Returns bulk_results by reference\n",
    "    \"\"\"\n",
    "    Returns, by reference, a dict containing state names as keys and a value of a \n",
    "    dict containing mggg_gdf names as keys and the results of dm.compare_column_sums\n",
    "    as values.\n",
    "    \n",
    "    \"\"\"\n",
    "    if st in medsls:\n",
    "        try:\n",
    "            mggg_results = bulk_results[st]\n",
    "        except Exception:\n",
    "            mggg_results = {}\n",
    "        for mggg_name in mggg_names:\n",
    "            x = []\n",
    "            y = []\n",
    "            for mggg_col, medsl_col in cols:\n",
    "                if (mggg_col in list(mggg_gdfs[mggg_name]) and \n",
    "                    medsl_col in list(medsls[st])):\n",
    "                    x.append(mggg_col)\n",
    "                    y.append(medsl_col)\n",
    "                \n",
    "            if x:\n",
    "                try:\n",
    "                    # append results\n",
    "                    mggg_results[mggg_name] += dq.compare_column_sums(\n",
    "                                                    mggg_gdfs[mggg_name], \n",
    "                                                    medsls[st], x, y)\n",
    "                except Exception as e:\n",
    "                    try: # if results don't already exist\n",
    "                        mggg_results[mggg_name] = dq.compare_column_sums(\n",
    "                                                    mggg_gdfs[mggg_name], \n",
    "                                                    medsls[st], x, y)\n",
    "                    except Exception as z:\n",
    "                        print(\"Unable to compare {} and {} in {}. {}\".format(\n",
    "                                    x, y, mggg_name, z))\n",
    "            else:\n",
    "                mggg_results[mggg_name] = []\n",
    "        \n",
    "            bulk_results[st] = mggg_results\n",
    "            \n",
    "\n",
    "results = {}\n",
    "\n",
    "for state in available_mggg_states:\n",
    "    st, mggg_names = state\n",
    "    \n",
    "    if mggg_names:\n",
    "        bulk_compare(results, st, mggg_names, medsl_pres16_dfs, pres16_cols)\n",
    "        bulk_compare(results, st, mggg_names, medsl_sen16_dfs, sen16_cols)\n",
    "        bulk_compare(results, st, mggg_names, medsl_ush16_dfs, ush16_cols)\n",
    "        bulk_compare(results, st, mggg_names, medsl_18_dfs, fed18_cols)"
   ]
  },
  {
   "cell_type": "code",
   "execution_count": null,
   "metadata": {},
   "outputs": [],
   "source": [
    "# Print comparison results\n",
    "print(\"============================================================================\")\n",
    "print(\"Results of State-level Aggregation comparisons between mggg-states and MEDSL\")\n",
    "print(\"============================================================================\")\n",
    "print()\n",
    "print('{:37} : {}'.format('mggg-states column [vs] MEDSL column', 'difference in sums'))\n",
    "print('----------------------------------------------------------------------------')\n",
    "\n",
    "for st in results:\n",
    "    print(\"######## {} ########\".format(st))\n",
    "    for mggg_name in results[st]:\n",
    "        print(\"{} ========\".format(mggg_name))\n",
    "        if results[st][mggg_name]:\n",
    "            for col_v_col, diff in results[st][mggg_name]:\n",
    "                print('{:37} : {}'.format(col_v_col, diff))\n",
    "        else:\n",
    "            print(\"No comparable columns found.\")\n",
    "        print()\n",
    "    print()\n"
   ]
  },
  {
   "cell_type": "markdown",
   "metadata": {},
   "source": [
    "__Don't panic just yet -- potential explanations for differences:__\n",
    "\n",
    "- MGGG data may have columns with mixed datatypes. Some columns contain strings, when they should contain numbers\n",
    "- Some shapefiles use VTDs and towns, which may differ from precincts\n",
    "- Undercounts may be the result of excluding absentee ballots in the count\n",
    "- Sums should be spot-checked manually in addition to the automated checks\n",
    "- The comparisons are conducted on the intersection between mggg-states and MEDSL datasets and are limited to 2016 and 2018 data\n",
    "- MEDSL float values indicate proration -- to investigate\n",
    "- I also haven't rigourously examined the MEDSL data :P"
   ]
  },
  {
   "cell_type": "markdown",
   "metadata": {},
   "source": [
    "[Coming Soon] __Step 4.2.__ Compare against Wikipedia"
   ]
  },
  {
   "cell_type": "markdown",
   "metadata": {},
   "source": [
    "[Coming Soon] __Step 4.3.__ Compare against Ballotpedia"
   ]
  },
  {
   "cell_type": "markdown",
   "metadata": {},
   "source": [
    "__Step 4.4__ Data summation for manual checks against external sources"
   ]
  },
  {
   "cell_type": "code",
   "execution_count": null,
   "metadata": {},
   "outputs": [],
   "source": [
    "# Print MGGG summation results\n",
    "print(\"============================================================================\")\n",
    "print(\"Results of State-level Aggregations - mggg-states\")\n",
    "print(\"============================================================================\")\n",
    "print()\n",
    "print('{:11} : {:10}\\t\\t{}'.format('mggg-states column', 'sum', 'dtype'))\n",
    "print('----------------------------------------------------------------------------')\n",
    "\n",
    "for st, gdf_names in available_mggg_states:\n",
    "    if gdf_names:\n",
    "        print('######## {} ########'.format(st))\n",
    "        for gdf_name in gdf_names:\n",
    "            print(\"{} ========\".format(gdf_name))\n",
    "\n",
    "            cols_to_sum = [col for col in matched_columns[gdf_name] if col != 'geometry']\n",
    "            col_sums = dq.sum_column_values(mggg_gdfs[gdf_name], cols_to_sum)\n",
    "\n",
    "            for result in col_sums:\n",
    "                col_name, col_sum = result\n",
    "                if col_name in matched_columns[gdf_name]:\n",
    "                    if isinstance(col_sum, str):\n",
    "                        col_sum = \"{} is a str\".format(col_name)\n",
    "                    print('{:11} : {:10}\\t\\t{}'.format(col_name, col_sum, str(type(col_sum))))\n",
    "            print('\\n\\n')\n",
    "    "
   ]
  },
  {
   "cell_type": "code",
   "execution_count": null,
   "metadata": {},
   "outputs": [],
   "source": [
    "# Print MEDSL summation results\n",
    "def print_medsl_sums(st: str, \n",
    "                     medsl_name: str, \n",
    "                     medsls: Dict[str, Union[pd.DataFrame, gpd.GeoDataFrame]]\n",
    "        ) -> NoReturn:\n",
    "    if st in medsls:\n",
    "        print(\"######## {} : {} ########\".format(st, medsl_name))\n",
    "        \n",
    "        cols_to_sum = [col for col in list(medsls[st]) if col != 'geometry']\n",
    "        try:\n",
    "            col_sums = dq.sum_column_values(medsls[st], cols_to_sum)\n",
    "        except Exception as e:\n",
    "            pass\n",
    "        \n",
    "        for result in col_sums:\n",
    "            col_name, col_sum = result\n",
    "            print('{:65} : {}\\t{}'.format(col_name, col_sum, str(type(col_sum))))\n",
    "\n",
    "        print('\\n\\n')\n",
    "\n",
    "        \n",
    "print(\"============================================================================\")\n",
    "print(\"Results of State-level Aggregations - MEDSL\")\n",
    "print(\"============================================================================\")\n",
    "print()\n",
    "print('{:65} : {}\\t{}'.format('MEDSL column', 'sum', 'dtype'))\n",
    "print('----------------------------------------------------------------------------')\n",
    "\n",
    "for st, st_abv in states:\n",
    "    print_medsl_sums(st, 'MEDSL 2018', medsl_18_dfs)\n",
    "    print_medsl_sums(st, 'MEDSL PRES16', medsl_pres16_dfs)\n",
    "    print_medsl_sums(st, 'MEDSL SEN16', medsl_sen16_dfs)\n",
    "    print_medsl_sums(st, 'MEDSL USH16', medsl_ush16_dfs)\n",
    "    "
   ]
  },
  {
   "cell_type": "markdown",
   "metadata": {},
   "source": [
    "Step 5. Check topological soundness of ``mggg-states`` data\n",
    "-----------------------------------------------------------------------\n",
    "\n",
    "__Step 5.1.__ Check for empty geometries"
   ]
  },
  {
   "cell_type": "code",
   "execution_count": 28,
   "metadata": {},
   "outputs": [
    {
     "name": "stdout",
     "output_type": "stream",
     "text": [
      "No missing or empty geometries.\n"
     ]
    }
   ],
   "source": [
    "topological_warnings = []\n",
    "for gdf in mggg_gdfs:\n",
    "    if any(mggg_gdfs[gdf]['geometry'].isna()):\n",
    "        topological_warnings.append('{} has missing geometries.'.format(gdf))\n",
    "        \n",
    "    if any(mggg_gdfs[gdf]['geometry'].is_empty):\n",
    "        topological_warnings.append('{} has empty geometries.')\n",
    "\n",
    "if len(topological_warnings) == 0:\n",
    "    print(\"No missing or empty geometries.\")\n",
    "else:\n",
    "    [print(msg) for msg in topological_warnings]"
   ]
  },
  {
   "cell_type": "markdown",
   "metadata": {},
   "source": [
    "Step 6. Cleanup\n",
    "-------------------"
   ]
  },
  {
   "cell_type": "code",
   "execution_count": 29,
   "metadata": {},
   "outputs": [],
   "source": [
    "# # Remove cloned repos\n",
    "# dm.remove_repos('qafiles/')"
   ]
  },
  {
   "cell_type": "code",
   "execution_count": 30,
   "metadata": {},
   "outputs": [],
   "source": [
    "# # Delete output dump directory\n",
    "# !echo y | rm -rf ./qafiles"
   ]
  },
  {
   "cell_type": "code",
   "execution_count": 31,
   "metadata": {},
   "outputs": [],
   "source": [
    "# # Uninstall installed python packages\n",
    "# !echo y | pip3 uninstall numpy\n",
    "# !echo y | pip3 uninstall pandas\n",
    "# !echo y | pip3 uninstall geopandas\n",
    "# !echo y | pip3 uninstall wikipedia\n",
    "\n",
    "# !echo y | pip3 uninstall gdutils"
   ]
  },
  {
   "cell_type": "code",
   "execution_count": 32,
   "metadata": {},
   "outputs": [],
   "source": [
    "# # Reset Jupyter Notebook IPython Kernel\n",
    "# from IPython.core.display import HTML\n",
    "# HTML(\"<script>Jupyter.notebook.kernel.restart()</script>\")"
   ]
  },
  {
   "cell_type": "markdown",
   "metadata": {},
   "source": [
    "Next Steps\n",
    "-------------\n",
    "\n",
    "__Data Standardization__\n",
    "\n",
    "- Manually evaluate column naming discrepancies to determine if changes are needed\n",
    "- Manually evaluate column datatypes to determine if changes are needed\n",
    "\n",
    "__Data Comparison__\n",
    "\n",
    "- Manually investigate large differences found through comparing ``mggg-states`` data with external sources (e.g. Are absentee ballots counted? Are the precinct counts accurate? etc.) \n",
    "- For more accurate comparisons, compare ``mggg-states`` data with those in each States' Secretary of State website\n",
    "\n",
    "__Topological Soundness__\n",
    "\n",
    "- Manually examine shapefiles for gaps and overlaps. *Note:* although gaps and overlaps are not necessarily indicators of inaccurate data (because some counties have precinct islands), they do mean that the data cannot be for chain runs. \n",
    "\n",
    "__Data Documentation__\n",
    "\n",
    "- Do the READMEs provide data sources?\n",
    "- Do the READMEs describe what aggregation/disaggregation processes were used?\n",
    "- Do the READMEs discuss discrepancies/caveats in the data?\n",
    "- Do the READMEs provide scripts used and/or discuss the data wrangling/processing process?"
   ]
  }
 ],
 "metadata": {
  "kernelspec": {
   "display_name": "Python 3",
   "language": "python",
   "name": "python3"
  },
  "language_info": {
   "codemirror_mode": {
    "name": "ipython",
    "version": 3
   },
   "file_extension": ".py",
   "mimetype": "text/x-python",
   "name": "python",
   "nbconvert_exporter": "python",
   "pygments_lexer": "ipython3",
   "version": "3.8.5"
  }
 },
 "nbformat": 4,
 "nbformat_minor": 4
}
